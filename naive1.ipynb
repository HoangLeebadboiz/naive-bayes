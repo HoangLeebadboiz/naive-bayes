{
 "cells": [
  {
   "cell_type": "code",
   "execution_count": 82,
   "metadata": {},
   "outputs": [],
   "source": [
    "import  numpy as np\n",
    "import pandas as pd\n",
    "from sklearn.model_selection import train_test_split\n",
    "from sklearn.datasets import load_iris\n",
    "from sklearn.metrics import accuracy_score"
   ]
  },
  {
   "cell_type": "code",
   "execution_count": 102,
   "metadata": {},
   "outputs": [
    {
     "name": "stdout",
     "output_type": "stream",
     "text": [
      "     sepal length (cm)  sepal width (cm)  petal length (cm)  petal width (cm)\n",
      "0                  5.1               3.5                1.4               0.2\n",
      "1                  4.9               3.0                1.4               0.2\n",
      "2                  4.7               3.2                1.3               0.2\n",
      "3                  4.6               3.1                1.5               0.2\n",
      "4                  5.0               3.6                1.4               0.2\n",
      "..                 ...               ...                ...               ...\n",
      "145                6.7               3.0                5.2               2.3\n",
      "146                6.3               2.5                5.0               1.9\n",
      "147                6.5               3.0                5.2               2.0\n",
      "148                6.2               3.4                5.4               2.3\n",
      "149                5.9               3.0                5.1               1.8\n",
      "\n",
      "[150 rows x 4 columns]\n"
     ]
    }
   ],
   "source": [
    "X, y = load_iris(return_X_y= True, as_frame= True)\n",
    "print(X)"
   ]
  },
  {
   "cell_type": "code",
   "execution_count": 103,
   "metadata": {},
   "outputs": [
    {
     "name": "stdout",
     "output_type": "stream",
     "text": [
      "11\n"
     ]
    }
   ],
   "source": [
    "X = X.to_numpy(); y = y.to_numpy()\n",
    "X_train, X_test, y_train, y_test = train_test_split(X, y, test_size= 0.25, random_state= 42)\n",
    "print(len(y_test[y_test == 1]))"
   ]
  },
  {
   "cell_type": "code",
   "execution_count": null,
   "metadata": {},
   "outputs": [],
   "source": []
  },
  {
   "cell_type": "code",
   "execution_count": 64,
   "metadata": {},
   "outputs": [],
   "source": [
    "class NaiveBayes:\n",
    "\n",
    "    def __init__(self, X, y):\n",
    "        self.n_samples, self.n_features = X.shape\n",
    "        self._classes = np.unique(y)\n",
    "        self._mean = np.zeros((self.n_samples, self.n_features), dtype= np.float64)\n",
    "        self._var = np.zeros((self.n_samples, self.n_features), dtype= np.float64)\n",
    "        self._priors = np.zeros(self.n_samples, dtype= np.float64)\n",
    "    \n",
    "    def fit(self):\n",
    "        \n",
    "        for index, value in enumerate(self._classes):\n",
    "            X_c = X[y == value]\n",
    "            self._mean[index, : ] = X_c.mean(axis= 0)\n",
    "            self._var[index, : ] = X_c.var(axis= 0)\n",
    "            self._priors[index] = X_c.shape[0]/self.n_samples\n",
    "\n",
    "    def predict(self, X_test):\n",
    "        y_pred = [self._predict(x) for x in X_test]\n",
    "        return y_pred\n",
    "    \n",
    "    def _predict(self, x):\n",
    "        probaties = []\n",
    "        \n",
    "        for i in range(len(self._classes)):\n",
    "            prior = np.log(self._priors[i])\n",
    "            probaty = np.sum(np.log(self._pdf(i, x)))\n",
    "            probaty += prior\n",
    "            probaties.append(probaty)\n",
    "\n",
    "        return self._classes[np.argmax(probaties)]\n",
    "    \n",
    "    def _pdf(self, index, x):\n",
    "        mean = self._mean[index]\n",
    "        var = self._var[index]\n",
    "        f = (np.exp((-(x - mean)**2) / (2*var))) / np.sqrt(2*np.pi*var)\n",
    "        return f\n",
    "        "
   ]
  },
  {
   "cell_type": "code",
   "execution_count": 65,
   "metadata": {},
   "outputs": [
    {
     "name": "stdout",
     "output_type": "stream",
     "text": [
      "predict:   1    -->     real:      1\n",
      "predict:   0    -->     real:      0\n",
      "predict:   2    -->     real:      2\n",
      "predict:   1    -->     real:      1\n",
      "predict:   1    -->     real:      1\n",
      "predict:   0    -->     real:      0\n",
      "predict:   1    -->     real:      1\n",
      "predict:   2    -->     real:      2\n",
      "predict:   1    -->     real:      1\n",
      "predict:   1    -->     real:      1\n",
      "predict:   2    -->     real:      2\n",
      "predict:   0    -->     real:      0\n",
      "predict:   0    -->     real:      0\n",
      "predict:   0    -->     real:      0\n",
      "predict:   0    -->     real:      0\n",
      "predict:   1    -->     real:      1\n",
      "predict:   2    -->     real:      2\n",
      "predict:   1    -->     real:      1\n",
      "predict:   1    -->     real:      1\n",
      "predict:   2    -->     real:      2\n",
      "predict:   0    -->     real:      0\n",
      "predict:   2    -->     real:      2\n",
      "predict:   0    -->     real:      0\n",
      "predict:   2    -->     real:      2\n",
      "predict:   2    -->     real:      2\n",
      "predict:   2    -->     real:      2\n",
      "predict:   2    -->     real:      2\n",
      "predict:   2    -->     real:      2\n",
      "predict:   0    -->     real:      0\n",
      "predict:   0    -->     real:      0\n",
      "predict:   0    -->     real:      0\n",
      "predict:   0    -->     real:      0\n",
      "predict:   1    -->     real:      1\n",
      "predict:   0    -->     real:      0\n",
      "predict:   0    -->     real:      0\n",
      "predict:   2    -->     real:      2\n",
      "predict:   1    -->     real:      1\n",
      "predict:   0    -->     real:      0\n",
      "1.0\n"
     ]
    }
   ],
   "source": [
    "model = NaiveBayes(X_train, y_train)\n",
    "model.fit()\n",
    "y_pred = model.predict(X_test)\n",
    "for i in range(len(X_test)):\n",
    "    print(\"predict:   {}    -->     real:      {}\".format(y_pred[i], y_test[i]))\n",
    "print(accuracy_score(y_pred, y_test))"
   ]
  }
 ],
 "metadata": {
  "kernelspec": {
   "display_name": "Python 3",
   "language": "python",
   "name": "python3"
  },
  "language_info": {
   "codemirror_mode": {
    "name": "ipython",
    "version": 3
   },
   "file_extension": ".py",
   "mimetype": "text/x-python",
   "name": "python",
   "nbconvert_exporter": "python",
   "pygments_lexer": "ipython3",
   "version": "3.10.9"
  },
  "orig_nbformat": 4
 },
 "nbformat": 4,
 "nbformat_minor": 2
}
